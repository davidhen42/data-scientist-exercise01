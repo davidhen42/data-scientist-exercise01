{
 "cells": [
  {
   "cell_type": "markdown",
   "metadata": {},
   "source": [
    "# Explore and Finalize Feature Data"
   ]
  },
  {
   "cell_type": "code",
   "execution_count": 204,
   "metadata": {},
   "outputs": [],
   "source": [
    "import pandas as pd\n",
    "import numpy as np\n",
    "import matplotlib.pyplot as plt"
   ]
  },
  {
   "cell_type": "code",
   "execution_count": 205,
   "metadata": {},
   "outputs": [],
   "source": [
    "# Load data that has gone through preliminary prep (see prelim_data_processing.py).\n",
    "prelim_df = pd.read_csv('./prelim_prepped_data.csv')\n",
    "categorical_columns = ['educ_level', 'marital_status', 'occupation_name', 'race', 'sex', 'workclass', 'origin_c_income']\n",
    "numerical_columns =['age', 'capital_gain', 'hours_week']\n"
   ]
  },
  {
   "cell_type": "markdown",
   "metadata": {},
   "source": [
    "### Generate Summary Statistics"
   ]
  },
  {
   "cell_type": "code",
   "execution_count": 206,
   "metadata": {},
   "outputs": [
    {
     "data": {
      "text/html": [
       "<div>\n",
       "<style scoped>\n",
       "    .dataframe tbody tr th:only-of-type {\n",
       "        vertical-align: middle;\n",
       "    }\n",
       "\n",
       "    .dataframe tbody tr th {\n",
       "        vertical-align: top;\n",
       "    }\n",
       "\n",
       "    .dataframe thead th {\n",
       "        text-align: right;\n",
       "    }\n",
       "</style>\n",
       "<table border=\"1\" class=\"dataframe\">\n",
       "  <thead>\n",
       "    <tr style=\"text-align: right;\">\n",
       "      <th></th>\n",
       "      <th>educ_level</th>\n",
       "      <th>marital_status</th>\n",
       "      <th>occupation_name</th>\n",
       "      <th>race</th>\n",
       "      <th>sex</th>\n",
       "      <th>workclass</th>\n",
       "      <th>origin_c_income</th>\n",
       "    </tr>\n",
       "  </thead>\n",
       "  <tbody>\n",
       "    <tr>\n",
       "      <td>count</td>\n",
       "      <td>48842</td>\n",
       "      <td>48842</td>\n",
       "      <td>46033</td>\n",
       "      <td>48842</td>\n",
       "      <td>48842</td>\n",
       "      <td>46043</td>\n",
       "      <td>47870</td>\n",
       "    </tr>\n",
       "    <tr>\n",
       "      <td>unique</td>\n",
       "      <td>10</td>\n",
       "      <td>7</td>\n",
       "      <td>14</td>\n",
       "      <td>5</td>\n",
       "      <td>2</td>\n",
       "      <td>8</td>\n",
       "      <td>5</td>\n",
       "    </tr>\n",
       "    <tr>\n",
       "      <td>top</td>\n",
       "      <td>hs_grad</td>\n",
       "      <td>Married-civ-spouse</td>\n",
       "      <td>Prof-specialty</td>\n",
       "      <td>White</td>\n",
       "      <td>Male</td>\n",
       "      <td>Private</td>\n",
       "      <td>US</td>\n",
       "    </tr>\n",
       "    <tr>\n",
       "      <td>freq</td>\n",
       "      <td>15784</td>\n",
       "      <td>22379</td>\n",
       "      <td>6172</td>\n",
       "      <td>41762</td>\n",
       "      <td>32650</td>\n",
       "      <td>33906</td>\n",
       "      <td>43832</td>\n",
       "    </tr>\n",
       "  </tbody>\n",
       "</table>\n",
       "</div>"
      ],
      "text/plain": [
       "       educ_level      marital_status occupation_name   race    sex workclass  \\\n",
       "count       48842               48842           46033  48842  48842     46043   \n",
       "unique         10                   7              14      5      2         8   \n",
       "top       hs_grad  Married-civ-spouse  Prof-specialty  White   Male   Private   \n",
       "freq        15784               22379            6172  41762  32650     33906   \n",
       "\n",
       "       origin_c_income  \n",
       "count            47870  \n",
       "unique               5  \n",
       "top                 US  \n",
       "freq             43832  "
      ]
     },
     "execution_count": 206,
     "metadata": {},
     "output_type": "execute_result"
    }
   ],
   "source": [
    "#Get summary stats for categorical columns\n",
    "prelim_df.describe(include=np.object)"
   ]
  },
  {
   "cell_type": "code",
   "execution_count": 207,
   "metadata": {},
   "outputs": [
    {
     "name": "stdout",
     "output_type": "stream",
     "text": [
      "NOTE: Census data is overly white: 85.5042791040498%, \n",
      "      and overly male: 66.84820441423365% \n"
     ]
    }
   ],
   "source": [
    "print(f\"\"\"NOTE: Census data is overly white: {(len(prelim_df[prelim_df['race'] == 'White'])/len(prelim_df))*100}%, \n",
    "      and overly male: {(len(prelim_df[prelim_df['sex'] == 'Male'])/len(prelim_df))*100}% \"\"\")      \n",
    "      "
   ]
  },
  {
   "cell_type": "code",
   "execution_count": 208,
   "metadata": {},
   "outputs": [
    {
     "name": "stdout",
     "output_type": "stream",
     "text": [
      "23.928176569346054% of respondents make > 50k\n"
     ]
    }
   ],
   "source": [
    "# Print frequency of outcome variable = 1 and outcome variable = 0\n",
    "print(f\"{(len(prelim_df[prelim_df['over_50k'] == 1])/len(prelim_df))*100}% of respondents make > 50k\")"
   ]
  },
  {
   "cell_type": "code",
   "execution_count": 209,
   "metadata": {},
   "outputs": [
    {
     "data": {
      "text/html": [
       "<div>\n",
       "<style scoped>\n",
       "    .dataframe tbody tr th:only-of-type {\n",
       "        vertical-align: middle;\n",
       "    }\n",
       "\n",
       "    .dataframe tbody tr th {\n",
       "        vertical-align: top;\n",
       "    }\n",
       "\n",
       "    .dataframe thead th {\n",
       "        text-align: right;\n",
       "    }\n",
       "</style>\n",
       "<table border=\"1\" class=\"dataframe\">\n",
       "  <thead>\n",
       "    <tr style=\"text-align: right;\">\n",
       "      <th></th>\n",
       "      <th>age</th>\n",
       "      <th>capital_gain</th>\n",
       "      <th>hours_week</th>\n",
       "      <th>over_50k</th>\n",
       "    </tr>\n",
       "  </thead>\n",
       "  <tbody>\n",
       "    <tr>\n",
       "      <td>count</td>\n",
       "      <td>48842.000000</td>\n",
       "      <td>48842.000000</td>\n",
       "      <td>48842.000000</td>\n",
       "      <td>48842.000000</td>\n",
       "    </tr>\n",
       "    <tr>\n",
       "      <td>mean</td>\n",
       "      <td>38.643585</td>\n",
       "      <td>991.565313</td>\n",
       "      <td>40.422382</td>\n",
       "      <td>0.239282</td>\n",
       "    </tr>\n",
       "    <tr>\n",
       "      <td>std</td>\n",
       "      <td>13.710510</td>\n",
       "      <td>7475.549906</td>\n",
       "      <td>12.391444</td>\n",
       "      <td>0.426649</td>\n",
       "    </tr>\n",
       "    <tr>\n",
       "      <td>min</td>\n",
       "      <td>17.000000</td>\n",
       "      <td>-4356.000000</td>\n",
       "      <td>1.000000</td>\n",
       "      <td>0.000000</td>\n",
       "    </tr>\n",
       "    <tr>\n",
       "      <td>25%</td>\n",
       "      <td>28.000000</td>\n",
       "      <td>0.000000</td>\n",
       "      <td>40.000000</td>\n",
       "      <td>0.000000</td>\n",
       "    </tr>\n",
       "    <tr>\n",
       "      <td>50%</td>\n",
       "      <td>37.000000</td>\n",
       "      <td>0.000000</td>\n",
       "      <td>40.000000</td>\n",
       "      <td>0.000000</td>\n",
       "    </tr>\n",
       "    <tr>\n",
       "      <td>75%</td>\n",
       "      <td>48.000000</td>\n",
       "      <td>0.000000</td>\n",
       "      <td>45.000000</td>\n",
       "      <td>0.000000</td>\n",
       "    </tr>\n",
       "    <tr>\n",
       "      <td>max</td>\n",
       "      <td>90.000000</td>\n",
       "      <td>99999.000000</td>\n",
       "      <td>99.000000</td>\n",
       "      <td>1.000000</td>\n",
       "    </tr>\n",
       "  </tbody>\n",
       "</table>\n",
       "</div>"
      ],
      "text/plain": [
       "                age  capital_gain    hours_week      over_50k\n",
       "count  48842.000000  48842.000000  48842.000000  48842.000000\n",
       "mean      38.643585    991.565313     40.422382      0.239282\n",
       "std       13.710510   7475.549906     12.391444      0.426649\n",
       "min       17.000000  -4356.000000      1.000000      0.000000\n",
       "25%       28.000000      0.000000     40.000000      0.000000\n",
       "50%       37.000000      0.000000     40.000000      0.000000\n",
       "75%       48.000000      0.000000     45.000000      0.000000\n",
       "max       90.000000  99999.000000     99.000000      1.000000"
      ]
     },
     "execution_count": 209,
     "metadata": {},
     "output_type": "execute_result"
    }
   ],
   "source": [
    "# Get summary stats for numeric columns\n",
    "prelim_df.describe(include=np.number)"
   ]
  },
  {
   "cell_type": "code",
   "execution_count": 210,
   "metadata": {},
   "outputs": [
    {
     "data": {
      "text/html": [
       "<div>\n",
       "<style scoped>\n",
       "    .dataframe tbody tr th:only-of-type {\n",
       "        vertical-align: middle;\n",
       "    }\n",
       "\n",
       "    .dataframe tbody tr th {\n",
       "        vertical-align: top;\n",
       "    }\n",
       "\n",
       "    .dataframe thead th {\n",
       "        text-align: right;\n",
       "    }\n",
       "</style>\n",
       "<table border=\"1\" class=\"dataframe\">\n",
       "  <thead>\n",
       "    <tr style=\"text-align: right;\">\n",
       "      <th></th>\n",
       "      <th>unique_values</th>\n",
       "      <th>counts</th>\n",
       "    </tr>\n",
       "  </thead>\n",
       "  <tbody>\n",
       "    <tr>\n",
       "      <td>182</td>\n",
       "      <td>-4356</td>\n",
       "      <td>3</td>\n",
       "    </tr>\n",
       "    <tr>\n",
       "      <td>189</td>\n",
       "      <td>-3900</td>\n",
       "      <td>2</td>\n",
       "    </tr>\n",
       "    <tr>\n",
       "      <td>165</td>\n",
       "      <td>-3770</td>\n",
       "      <td>4</td>\n",
       "    </tr>\n",
       "    <tr>\n",
       "      <td>195</td>\n",
       "      <td>-3683</td>\n",
       "      <td>2</td>\n",
       "    </tr>\n",
       "    <tr>\n",
       "      <td>194</td>\n",
       "      <td>-3175</td>\n",
       "      <td>2</td>\n",
       "    </tr>\n",
       "    <tr>\n",
       "      <td>...</td>\n",
       "      <td>...</td>\n",
       "      <td>...</td>\n",
       "    </tr>\n",
       "    <tr>\n",
       "      <td>89</td>\n",
       "      <td>25236</td>\n",
       "      <td>14</td>\n",
       "    </tr>\n",
       "    <tr>\n",
       "      <td>23</td>\n",
       "      <td>27828</td>\n",
       "      <td>58</td>\n",
       "    </tr>\n",
       "    <tr>\n",
       "      <td>142</td>\n",
       "      <td>34095</td>\n",
       "      <td>6</td>\n",
       "    </tr>\n",
       "    <tr>\n",
       "      <td>185</td>\n",
       "      <td>41310</td>\n",
       "      <td>3</td>\n",
       "    </tr>\n",
       "    <tr>\n",
       "      <td>6</td>\n",
       "      <td>99999</td>\n",
       "      <td>244</td>\n",
       "    </tr>\n",
       "  </tbody>\n",
       "</table>\n",
       "<p>221 rows × 2 columns</p>\n",
       "</div>"
      ],
      "text/plain": [
       "     unique_values  counts\n",
       "182          -4356       3\n",
       "189          -3900       2\n",
       "165          -3770       4\n",
       "195          -3683       2\n",
       "194          -3175       2\n",
       "..             ...     ...\n",
       "89           25236      14\n",
       "23           27828      58\n",
       "142          34095       6\n",
       "185          41310       3\n",
       "6            99999     244\n",
       "\n",
       "[221 rows x 2 columns]"
      ]
     },
     "execution_count": 210,
     "metadata": {},
     "output_type": "execute_result"
    }
   ],
   "source": [
    "# Strange concentration of $99,9999 values in capital_gains column. Check to see if other, nearby values present.\n",
    "gain_counts = prelim_df['capital_gain'].value_counts().rename_axis('unique_values').reset_index(name='counts')\n",
    "gain_counts.sort_values(by='unique_values')"
   ]
  },
  {
   "cell_type": "code",
   "execution_count": 211,
   "metadata": {},
   "outputs": [],
   "source": [
    "# 244 $999999 values and next closest value = $41,310 (freq=3). Appears 99999 may be placeholder for\n",
    "# unknown, or all capital gains > 5 digits in length. Uncomment code below to mark as unknown; for now assuming\n",
    "# 99999 is placeholder for gains > 5 digits in length.\n",
    "\n",
    "#prelim_df['capital_gain'] = prelim_df['capital_gain'].replace({99999:np.nan})"
   ]
  },
  {
   "cell_type": "markdown",
   "metadata": {},
   "source": [
    "### Analyze missing values"
   ]
  },
  {
   "cell_type": "code",
   "execution_count": 212,
   "metadata": {},
   "outputs": [
    {
     "data": {
      "text/plain": [
       "False    92.381557\n",
       "True      7.618443\n",
       "dtype: float64"
      ]
     },
     "execution_count": 212,
     "metadata": {},
     "output_type": "execute_result"
    }
   ],
   "source": [
    "# 8 Percent of all rows have a null feature value.\n",
    "percentage_null = ((prelim_df.drop(columns='over_50k').isnull().any(axis=1).value_counts()) / len(prelim_df)) *100\n",
    "percentage_null"
   ]
  },
  {
   "cell_type": "code",
   "execution_count": 213,
   "metadata": {},
   "outputs": [
    {
     "data": {
      "text/plain": [
       "False    100.0\n",
       "Name: over_50k, dtype: float64"
      ]
     },
     "execution_count": 213,
     "metadata": {},
     "output_type": "execute_result"
    }
   ],
   "source": [
    "# But no rows have a null outcome variable (over 50k)\n",
    "percentage_outcomevar_null = ((prelim_df.isnull().over_50k.value_counts()) / len(prelim_df)) *100\n",
    "percentage_outcomevar_null"
   ]
  },
  {
   "cell_type": "code",
   "execution_count": 214,
   "metadata": {},
   "outputs": [
    {
     "name": "stdout",
     "output_type": "stream",
     "text": [
      "Constraint: 0 or more missing \t Percentage dropped: 7.61844314319643\n",
      "Constraint: 1 or more missing \t Percentage dropped: 5.7307235575938735\n",
      "Constraint: 2 or more missing \t Percentage dropped: 0.12284509233856107\n",
      "Constraint: 3 or more missing \t Percentage dropped: 0.0\n",
      "Constraint: 4 or more missing \t Percentage dropped: 0.0\n",
      "Constraint: 5 or more missing \t Percentage dropped: 0.0\n",
      "Constraint: 6 or more missing \t Percentage dropped: 0.0\n",
      "Constraint: 7 or more missing \t Percentage dropped: 0.0\n",
      "Constraint: 8 or more missing \t Percentage dropped: 0.0\n",
      "Constraint: 9 or more missing \t Percentage dropped: 0.0\n",
      "Constraint: 10 or more missing \t Percentage dropped: 0.0\n"
     ]
    }
   ],
   "source": [
    "# Nearly 10% of records contain a null value, should impute values rather than drop all observations.\n",
    "# See how many rows have multiple missing values. \n",
    "for number_missing in list(range(0,11)):\n",
    "    percent_dropped = ((len(prelim_df) - len(prelim_df.dropna(thresh=11-number_missing, axis=0)))/len(prelim_df))*100\n",
    "    print(f'Constraint: {number_missing} or more missing \\t Percentage dropped: {percent_dropped}')\n"
   ]
  },
  {
   "cell_type": "code",
   "execution_count": 215,
   "metadata": {},
   "outputs": [],
   "source": [
    "#If we drop only rows with > 2 values missing, only drop 0.12% of our dataset. Likely can afford this loss in power.\n",
    "prelim_df = prelim_df.dropna(thresh=9, axis=0)\n",
    "\n",
    "#For numerical values, fill in nulls with mean. For categorical, fill in with the mode.\n",
    "prelim_df[numerical_columns] = prelim_df[numerical_columns].fillna(prelim_df.median().iloc[0])\n",
    "prelim_df[categorical_columns] = prelim_df[categorical_columns].fillna(prelim_df.mode().iloc[0])"
   ]
  },
  {
   "cell_type": "code",
   "execution_count": 216,
   "metadata": {},
   "outputs": [],
   "source": [
    "# Make categorical variables into dummies; Export final dataset for use in model classification\n",
    "prepped_df = pd.get_dummies(prepped_df, prefix=categorical_columns, columns=categorical_columns, drop_first=True)\n",
    "prepped_df.to_csv('./datasets/fully_prepped.csv')"
   ]
  },
  {
   "cell_type": "markdown",
   "metadata": {},
   "source": [
    "### Analyze Numeric Features"
   ]
  },
  {
   "cell_type": "code",
   "execution_count": 217,
   "metadata": {},
   "outputs": [],
   "source": [
    "# Create function to output mean of each variable, correlation with outcome variable, and box plot of each variable\n",
    "def analyze_num_feature(num_feature):\n",
    "    plt.boxplot(prepped_df[num_feature])\n",
    "    plt.title(f\"Box Plot of {num_feature.title()}\")\n",
    "    plt.ylim([prepped_df[num_feature].min()-0.05*(prepped_df[num_feature].min()), prepped_df[num_feature].max()+0.05*(prepped_df[num_feature].max())])\n",
    "    plt.show()\n",
    "\n",
    "    feature_mean = prepped_df[num_feature].mean()\n",
    "    feature_corr = prepped_df[num_feature].corr(prepped_df['over_50k'])\n",
    "    print(f\"Mean: {feature_mean}\\nCorrelation w/ over_50k: {feature_corr}\")\n",
    "\n"
   ]
  },
  {
   "cell_type": "code",
   "execution_count": 218,
   "metadata": {},
   "outputs": [
    {
     "data": {
      "image/png": "[encoded data removed]",
      "text/plain": [
       "<Figure size 432x288 with 1 Axes>"
      ]
     },
     "metadata": {},
     "output_type": "display_data"
    },
    {
     "name": "stdout",
     "output_type": "stream",
     "text": [
      "Mean: 38.64913287688082\n",
      "Correlation w/ over_50k: 0.230469489976963\n"
     ]
    },
    {
     "data": {
      "image/png": "[encoded data removed]",
      "text/plain": [
       "<Figure size 432x288 with 1 Axes>"
      ]
     },
     "metadata": {},
     "output_type": "display_data"
    },
    {
     "name": "stdout",
     "output_type": "stream",
     "text": [
      "Mean: 990.5304415563118\n",
      "Correlation w/ over_50k: 0.2142758981500935\n"
     ]
    },
    {
     "data": {
      "image/png": "[encoded data removed]",
      "text/plain": [
       "<Figure size 432x288 with 1 Axes>"
      ]
     },
     "metadata": {},
     "output_type": "display_data"
    },
    {
     "name": "stdout",
     "output_type": "stream",
     "text": [
      "Mean: 40.43347956213358\n",
      "Correlation w/ over_50k: 0.227620019313461\n"
     ]
    }
   ],
   "source": [
    "for feature in numerical_columns:\n",
    "    analyze_num_feature(feature)"
   ]
  },
  {
   "cell_type": "code",
   "execution_count": null,
   "metadata": {},
   "outputs": [],
   "source": []
  }
 ],
 "metadata": {
  "kernelspec": {
   "display_name": "Python 3",
   "language": "python",
   "name": "python3"
  },
  "language_info": {
   "codemirror_mode": {
    "name": "ipython",
    "version": 3
   },
   "file_extension": ".py",
   "mimetype": "text/x-python",
   "name": "python",
   "nbconvert_exporter": "python",
   "pygments_lexer": "ipython3",
   "version": "3.7.4"
  }
 },
 "nbformat": 4,
 "nbformat_minor": 2
}
